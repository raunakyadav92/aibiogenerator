{
  "nbformat": 4,
  "nbformat_minor": 0,
  "metadata": {
    "colab": {
      "provenance": [],
      "authorship_tag": "ABX9TyPlKUlTtz0MLJhym8TfVnpg",
      "include_colab_link": true
    },
    "kernelspec": {
      "name": "python3",
      "display_name": "Python 3"
    },
    "language_info": {
      "name": "python"
    }
  },
  "cells": [
    {
      "cell_type": "markdown",
      "metadata": {
        "id": "view-in-github",
        "colab_type": "text"
      },
      "source": [
        "<a href=\"https://colab.research.google.com/github/raunakyadav92/aibiogenerator/blob/main/Ai_bio.ipynb\" target=\"_parent\"><img src=\"https://colab.research.google.com/assets/colab-badge.svg\" alt=\"Open In Colab\"/></a>"
      ]
    },
    {
      "cell_type": "code",
      "execution_count": null,
      "metadata": {
        "id": "PncIc42gdKHO"
      },
      "outputs": [],
      "source": [
        "import openai\n",
        "\n",
        "openai.api_key = \"your_openai_api_key\"\n",
        "\n",
        "def generate_bio(keywords, platform):\n",
        "    prompt = f\"Write a catchy {platform} bio using these words: {keywords}\"\n",
        "    response = openai.Completion.create(\n",
        "        engine=\"text-davinci-003\",\n",
        "        prompt=prompt,\n",
        "        max_tokens=60\n",
        "    )\n",
        "    return response.choices[0].text.strip()\n",
        "\n",
        "# Example usage:\n",
        "platform = \"Instagram\"\n",
        "keywords = \"travel, food, music\"\n",
        "bio = generate_bio(keywords, platform)\n",
        "print(f\"🎯 Your AI-generated {platform} Bio:\\n{bio}\")\n"
      ]
    }
  ]
}